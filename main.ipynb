{
 "cells": [
  {
   "cell_type": "markdown",
   "metadata": {},
   "source": [
    "code from: https://keras.io/examples/nlp/lstm_seq2seq/\n",
    "Author: @fchollet"
   ]
  },
  {
   "cell_type": "code",
   "execution_count": 1,
   "metadata": {},
   "outputs": [],
   "source": [
    "import numpy as np\n",
    "import tensorflow as tf\n",
    "from tensorflow import keras"
   ]
  },
  {
   "cell_type": "code",
   "execution_count": 2,
   "metadata": {},
   "outputs": [],
   "source": [
    "batch_size = 64  # Batch size for training.\n",
    "epochs = 30  # Number of epochs to train for.\n",
    "latent_dim = 256  # Latent dimensionality of the encoding space.\n",
    "num_samples = 10000  # Number of samples to train on.\n",
    "# Path to the data txt file on disk.\n",
    "data_path = \"data/rus.txt\""
   ]
  },
  {
   "cell_type": "code",
   "execution_count": 3,
   "metadata": {},
   "outputs": [
    {
     "name": "stdout",
     "output_type": "stream",
     "text": [
      "Number of samples:  10000\n",
      "Number of unique input tokens: 73\n",
      "Number of unique output tokens: 85\n",
      "Max sequence length for inputs: 14\n",
      "Max sequence length for outputs: 60\n"
     ]
    }
   ],
   "source": [
    "# Vectorize the data\n",
    "input_texts = []\n",
    "target_texts = []\n",
    "input_characters = set()\n",
    "target_characters = set()\n",
    "with open(data_path, \"r\", encoding=\"utf-8\") as f:\n",
    "    lines = f.read().split(\"\\n\")\n",
    "for line in lines[: min(num_samples, len(lines) - 1)]:\n",
    "    input_text, target_text, _ = line.split(\"\\t\")\n",
    "    # we use \"tab\" as the start sequence character\n",
    "    # for the targets, and \"\\n\" as the end sequence character.\n",
    "    target_text = \"\\t\" + target_text + \"\\n\"\n",
    "    input_texts.append(input_text)\n",
    "    target_texts.append(target_text)\n",
    "    for char in input_text:\n",
    "        if char not in input_characters:\n",
    "            input_characters.add(char)\n",
    "    for char in target_text:\n",
    "        if char not in target_characters:\n",
    "            target_characters.add(char)\n",
    "            \n",
    "input_characters = sorted(list(input_characters))\n",
    "target_characters = sorted(list(target_characters))\n",
    "num_encoder_tokens = len(input_characters)\n",
    "num_decoder_tokens = len(target_characters)\n",
    "max_encoder_seq_length = max([len(txt) for txt in input_texts])\n",
    "max_decoder_seq_length = max([len(txt) for txt in target_texts])\n",
    "\n",
    "print(\"Number of samples: \", len(input_texts))\n",
    "print(\"Number of unique input tokens:\", num_encoder_tokens)\n",
    "print(\"Number of unique output tokens:\", num_decoder_tokens)\n",
    "print(\"Max sequence length for inputs:\", max_encoder_seq_length)\n",
    "print(\"Max sequence length for outputs:\", max_decoder_seq_length)"
   ]
  },
  {
   "cell_type": "code",
   "execution_count": 4,
   "metadata": {},
   "outputs": [],
   "source": [
    "input_token_index = dict([(char, i) for i, char in enumerate(input_characters)])\n",
    "target_token_index = dict([(char, i) for i, char in enumerate(target_characters)])\n",
    "\n",
    "encoder_input_data = np.zeros(\n",
    "    (len(input_texts), max_encoder_seq_length, num_encoder_tokens), dtype=\"float32\"\n",
    ")\n",
    "decoder_input_data = np.zeros(\n",
    "    (len(input_texts), max_decoder_seq_length, num_decoder_tokens), dtype=\"float32\"\n",
    ")\n",
    "decoder_target_data = np.zeros(\n",
    "    (len(input_texts), max_decoder_seq_length, num_decoder_tokens), dtype=\"float32\"\n",
    ")\n",
    "for i, (input_text, target_text) in enumerate(zip(input_texts, target_texts)):\n",
    "    for t, char in enumerate(input_text):\n",
    "        encoder_input_data[i, t, input_token_index[char]] = 1.0\n",
    "    encoder_input_data[i, t + 1 :, input_token_index[\" \"]] = 1.0\n",
    "    for t, char in enumerate(target_text):\n",
    "        # decoder_target_data is ahead of decoder_input_data by one timestep\n",
    "        decoder_input_data[i, t, target_token_index[char]] = 1.0\n",
    "        if t > 0:\n",
    "            # decoder_target_data will be ahead by one timestep\n",
    "            # and will not include the start character.\n",
    "            decoder_target_data[i, t - 1, target_token_index[char]] = 1.0\n",
    "    decoder_input_data[i, t + 1 :, target_token_index[\" \"]] = 1.0\n",
    "    decoder_target_data[i, t:, target_token_index[\" \"]] = 1.0"
   ]
  },
  {
   "cell_type": "markdown",
   "metadata": {},
   "source": [
    "# Build the model"
   ]
  },
  {
   "cell_type": "code",
   "execution_count": 5,
   "metadata": {},
   "outputs": [],
   "source": [
    "# Defines an input sequence and processes it\n",
    "encoder_inputs = keras.Input(shape=(None, num_encoder_tokens))\n",
    "encoder = keras.layers.LSTM(latent_dim, return_state=True)\n",
    "encoder_outputs, state_h, state_c = encoder(encoder_inputs)\n",
    "\n",
    "# we discard encoder_outputs and keep only the states\n",
    "encoder_states = state_h, state_c\n",
    "\n",
    "# set up the decoder using encoder_states as the initial state\n",
    "decoder_inputs = keras.Input(shape=(None, num_decoder_tokens))\n",
    "\n",
    "# We set up our decoder to return full output sequences,\n",
    "# and return internal states as well. We don't use the\n",
    "# return states in the training model, but we will use them in inference\n",
    "decoder_lstm = keras.layers.LSTM(latent_dim, return_sequences=True, return_state=True)\n",
    "decoder_outputs, _, _ = decoder_lstm(decoder_inputs, initial_state=encoder_states)\n",
    "decoder_dense = keras.layers.Dense(num_decoder_tokens, activation=\"softmax\")\n",
    "decoder_outputs = decoder_dense(decoder_outputs)\n",
    "\n",
    "# Define the model that will turn\n",
    "# encoder_input_data & decoder_input_data into target_data\n",
    "model = keras.Model([encoder_inputs, decoder_inputs], decoder_outputs)"
   ]
  },
  {
   "cell_type": "markdown",
   "metadata": {},
   "source": [
    "# Train the model"
   ]
  },
  {
   "cell_type": "code",
   "execution_count": 6,
   "metadata": {},
   "outputs": [
    {
     "name": "stdout",
     "output_type": "stream",
     "text": [
      "Epoch 1/30\n",
      "125/125 [==============================] - 19s 129ms/step - loss: 1.3154 - accuracy: 0.7472 - val_loss: 0.8585 - val_accuracy: 0.7666\n",
      "Epoch 2/30\n",
      "125/125 [==============================] - 15s 121ms/step - loss: 0.7364 - accuracy: 0.8052 - val_loss: 0.6842 - val_accuracy: 0.8156\n",
      "Epoch 3/30\n",
      "125/125 [==============================] - 14s 113ms/step - loss: 0.5921 - accuracy: 0.8399 - val_loss: 0.5963 - val_accuracy: 0.8287\n",
      "Epoch 4/30\n",
      "125/125 [==============================] - 14s 113ms/step - loss: 0.5243 - accuracy: 0.8513 - val_loss: 0.5506 - val_accuracy: 0.8394\n",
      "Epoch 5/30\n",
      "125/125 [==============================] - 14s 111ms/step - loss: 0.4858 - accuracy: 0.8600 - val_loss: 0.5232 - val_accuracy: 0.8479\n",
      "Epoch 6/30\n",
      "125/125 [==============================] - 14s 113ms/step - loss: 0.4556 - accuracy: 0.8674 - val_loss: 0.4998 - val_accuracy: 0.8550\n",
      "Epoch 7/30\n",
      "125/125 [==============================] - 14s 113ms/step - loss: 0.4293 - accuracy: 0.8753 - val_loss: 0.4773 - val_accuracy: 0.8606\n",
      "Epoch 8/30\n",
      "125/125 [==============================] - 14s 113ms/step - loss: 0.4070 - accuracy: 0.8812 - val_loss: 0.4646 - val_accuracy: 0.8647\n",
      "Epoch 9/30\n",
      "125/125 [==============================] - 14s 112ms/step - loss: 0.3830 - accuracy: 0.8880 - val_loss: 0.4510 - val_accuracy: 0.8699\n",
      "Epoch 10/30\n",
      "125/125 [==============================] - 14s 111ms/step - loss: 0.3669 - accuracy: 0.8928 - val_loss: 0.4445 - val_accuracy: 0.8724\n",
      "Epoch 11/30\n",
      "125/125 [==============================] - 14s 112ms/step - loss: 0.3490 - accuracy: 0.8974 - val_loss: 0.4365 - val_accuracy: 0.8745\n",
      "Epoch 12/30\n",
      "125/125 [==============================] - 14s 112ms/step - loss: 0.3334 - accuracy: 0.9024 - val_loss: 0.4316 - val_accuracy: 0.8759\n",
      "Epoch 13/30\n",
      "125/125 [==============================] - 14s 112ms/step - loss: 0.3173 - accuracy: 0.9069 - val_loss: 0.4240 - val_accuracy: 0.8788\n",
      "Epoch 14/30\n",
      "125/125 [==============================] - 14s 112ms/step - loss: 0.3076 - accuracy: 0.9096 - val_loss: 0.4236 - val_accuracy: 0.8791\n",
      "Epoch 15/30\n",
      "125/125 [==============================] - 14s 111ms/step - loss: 0.2935 - accuracy: 0.9143 - val_loss: 0.4149 - val_accuracy: 0.8813\n",
      "Epoch 16/30\n",
      "125/125 [==============================] - 14s 111ms/step - loss: 0.2820 - accuracy: 0.9175 - val_loss: 0.4151 - val_accuracy: 0.8823\n",
      "Epoch 17/30\n",
      "125/125 [==============================] - 14s 112ms/step - loss: 0.2711 - accuracy: 0.9201 - val_loss: 0.4109 - val_accuracy: 0.8833\n",
      "Epoch 18/30\n",
      "125/125 [==============================] - 14s 111ms/step - loss: 0.2572 - accuracy: 0.9240 - val_loss: 0.4086 - val_accuracy: 0.8848\n",
      "Epoch 19/30\n",
      "125/125 [==============================] - 14s 112ms/step - loss: 0.2497 - accuracy: 0.9267 - val_loss: 0.4119 - val_accuracy: 0.8848\n",
      "Epoch 20/30\n",
      "125/125 [==============================] - 14s 113ms/step - loss: 0.2424 - accuracy: 0.9283 - val_loss: 0.4149 - val_accuracy: 0.8850\n",
      "Epoch 21/30\n",
      "125/125 [==============================] - 14s 114ms/step - loss: 0.2311 - accuracy: 0.9318 - val_loss: 0.4103 - val_accuracy: 0.8860\n",
      "Epoch 22/30\n",
      "125/125 [==============================] - 14s 113ms/step - loss: 0.2220 - accuracy: 0.9343 - val_loss: 0.4114 - val_accuracy: 0.8863\n",
      "Epoch 23/30\n",
      "125/125 [==============================] - 14s 113ms/step - loss: 0.2163 - accuracy: 0.9358 - val_loss: 0.4149 - val_accuracy: 0.8862\n",
      "Epoch 24/30\n",
      "125/125 [==============================] - 14s 113ms/step - loss: 0.2075 - accuracy: 0.9383 - val_loss: 0.4160 - val_accuracy: 0.8878\n",
      "Epoch 25/30\n",
      "125/125 [==============================] - 14s 113ms/step - loss: 0.1979 - accuracy: 0.9410 - val_loss: 0.4183 - val_accuracy: 0.8870\n",
      "Epoch 26/30\n",
      "125/125 [==============================] - 14s 113ms/step - loss: 0.1907 - accuracy: 0.9433 - val_loss: 0.4235 - val_accuracy: 0.8861\n",
      "Epoch 27/30\n",
      "125/125 [==============================] - 15s 119ms/step - loss: 0.1850 - accuracy: 0.9450 - val_loss: 0.4247 - val_accuracy: 0.8868\n",
      "Epoch 28/30\n",
      "125/125 [==============================] - 15s 122ms/step - loss: 0.1765 - accuracy: 0.9472 - val_loss: 0.4269 - val_accuracy: 0.8872\n",
      "Epoch 29/30\n",
      "125/125 [==============================] - 15s 117ms/step - loss: 0.1713 - accuracy: 0.9487 - val_loss: 0.4314 - val_accuracy: 0.8866\n",
      "Epoch 30/30\n",
      "125/125 [==============================] - 15s 120ms/step - loss: 0.1647 - accuracy: 0.9503 - val_loss: 0.4351 - val_accuracy: 0.8879\n"
     ]
    },
    {
     "name": "stderr",
     "output_type": "stream",
     "text": [
      "WARNING:absl:Found untraced functions such as lstm_cell_layer_call_and_return_conditional_losses, lstm_cell_layer_call_fn, lstm_cell_1_layer_call_and_return_conditional_losses, lstm_cell_1_layer_call_fn, lstm_cell_layer_call_fn while saving (showing 5 of 10). These functions will not be directly callable after loading.\n",
      "WARNING:absl:Found untraced functions such as lstm_cell_layer_call_and_return_conditional_losses, lstm_cell_layer_call_fn, lstm_cell_1_layer_call_and_return_conditional_losses, lstm_cell_1_layer_call_fn, lstm_cell_layer_call_fn while saving (showing 5 of 10). These functions will not be directly callable after loading.\n"
     ]
    },
    {
     "name": "stdout",
     "output_type": "stream",
     "text": [
      "INFO:tensorflow:Assets written to: s2s\\assets\n"
     ]
    },
    {
     "name": "stderr",
     "output_type": "stream",
     "text": [
      "INFO:tensorflow:Assets written to: s2s\\assets\n"
     ]
    }
   ],
   "source": [
    "model.compile(\n",
    "    optimizer=\"rmsprop\", loss=\"categorical_crossentropy\", metrics=[\"accuracy\"]\n",
    ")\n",
    "model.fit(\n",
    "    [encoder_input_data, decoder_input_data],\n",
    "    decoder_target_data,\n",
    "    batch_size=batch_size,\n",
    "    epochs=epochs,\n",
    "    validation_split=0.2,\n",
    ")\n",
    "# Save model\n",
    "model.save(\"s2s\")"
   ]
  },
  {
   "cell_type": "markdown",
   "metadata": {},
   "source": [
    "## Run inference (sampling)"
   ]
  },
  {
   "cell_type": "code",
   "execution_count": 14,
   "metadata": {},
   "outputs": [],
   "source": [
    "# Define sampling models\n",
    "# Restore the model and construct the encoder and decoder\n",
    "model = keras.models.load_model(\"s2s\")\n",
    "\n",
    "encoder_inputs = model.input[0]\n",
    "encoder_outputs, state_h_enc, state_c_enc = model.layers[2].output #lstm_1\n",
    "encoder_states = [state_h_enc, state_c_enc]\n",
    "encoder_model = keras.Model(encoder_inputs, encoder_states)\n",
    "\n",
    "decoder_inputs = model.input[1]\n",
    "decoder_state_input_h = keras.Input(shape=(latent_dim,), name=\"input_3\")\n",
    "decoder_state_input_c = keras.Input(shape=(latent_dim,), name=\"input_4\")\n",
    "decoder_states_inputs = [decoder_state_input_h, decoder_state_input_c]\n",
    "decoder_lstm = model.layers[3]\n",
    "decoder_outputs, state_h_dec, state_c_dec = decoder_lstm(\n",
    "    decoder_inputs, initial_state=decoder_states_inputs\n",
    ")\n",
    "decoder_states = [state_h_dec, state_c_dec]\n",
    "decoder_dense = model.layers[4]\n",
    "decoder_outputs = decoder_dense(decoder_outputs)\n",
    "decoder_model = keras.Model(\n",
    "    [decoder_inputs] + decoder_states_inputs, [decoder_outputs] + decoder_states\n",
    ")\n",
    "\n",
    "# Reverse-lookup token index to decode sequences back to\n",
    "# something readable\n",
    "reverse_input_char_index = dict((i, char) for char, i in input_token_index.items())\n",
    "reverse_target_char_index = dict((i, char) for char, i in target_token_index.items())\n",
    "\n",
    "def decode_sequence(input_seq):\n",
    "    # Encode the input as state vectors.\n",
    "    states_value = encoder_model.predict(input_seq)\n",
    "\n",
    "    # Generate empty target sequence of length 1\n",
    "    target_seq = np.zeros((1, 1, num_decoder_tokens))\n",
    "    # Populate the first character of the target sequence with the start character\n",
    "    target_seq[0, 0, target_token_index[\"\\t\"]] = 1.0\n",
    "    \n",
    "    # Sampling loop for the batch of sequences\n",
    "    # (to simplify we assume a batch size of 1)\n",
    "    stop_condition = False\n",
    "    decoded_sentence = \"\"\n",
    "    while not stop_condition:\n",
    "        output_tokens, h, c = decoder_model.predict([target_seq] + states_value)\n",
    "        \n",
    "        # Sample a token\n",
    "        sampled_token_index = np.argmax(output_tokens[0, -1, :])\n",
    "        sampled_char = reverse_target_char_index[sampled_token_index]\n",
    "        decoded_sentence += sampled_char\n",
    "        \n",
    "        # Exit condition: either hit max legnth\n",
    "        # or find stop character\n",
    "        if sampled_char == \"\\n\" or len(decoded_sentence) > max_decoder_seq_length:\n",
    "            stop_condition = True\n",
    "            \n",
    "        # Update the target_sequences of length 1\n",
    "        target_seq = np.zeros((1, 1, num_decoder_tokens))\n",
    "        target_seq[0, 0, sampled_token_index] = 1.0\n",
    "        \n",
    "        # Update states\n",
    "        states_value = [h,c]\n",
    "    return decoded_sentence"
   ]
  },
  {
   "cell_type": "markdown",
   "metadata": {},
   "source": [
    "# Now we can generate decoded sentences below"
   ]
  },
  {
   "cell_type": "code",
   "execution_count": 15,
   "metadata": {},
   "outputs": [
    {
     "name": "stdout",
     "output_type": "stream",
     "text": [
      "WARNING:tensorflow:5 out of the last 5 calls to <function Model.make_predict_function.<locals>.predict_function at 0x000001FE4DE34820> triggered tf.function retracing. Tracing is expensive and the excessive number of tracings could be due to (1) creating @tf.function repeatedly in a loop, (2) passing tensors with different shapes, (3) passing Python objects instead of tensors. For (1), please define your @tf.function outside of the loop. For (2), @tf.function has experimental_relax_shapes=True option that relaxes argument shapes that can avoid unnecessary retracing. For (3), please refer to https://www.tensorflow.org/guide/function#controlling_retracing and https://www.tensorflow.org/api_docs/python/tf/function for  more details.\n"
     ]
    },
    {
     "name": "stderr",
     "output_type": "stream",
     "text": [
      "WARNING:tensorflow:5 out of the last 5 calls to <function Model.make_predict_function.<locals>.predict_function at 0x000001FE4DE34820> triggered tf.function retracing. Tracing is expensive and the excessive number of tracings could be due to (1) creating @tf.function repeatedly in a loop, (2) passing tensors with different shapes, (3) passing Python objects instead of tensors. For (1), please define your @tf.function outside of the loop. For (2), @tf.function has experimental_relax_shapes=True option that relaxes argument shapes that can avoid unnecessary retracing. For (3), please refer to https://www.tensorflow.org/guide/function#controlling_retracing and https://www.tensorflow.org/api_docs/python/tf/function for  more details.\n"
     ]
    },
    {
     "name": "stdout",
     "output_type": "stream",
     "text": [
      "WARNING:tensorflow:6 out of the last 6 calls to <function Model.make_predict_function.<locals>.predict_function at 0x000001FE56B009D0> triggered tf.function retracing. Tracing is expensive and the excessive number of tracings could be due to (1) creating @tf.function repeatedly in a loop, (2) passing tensors with different shapes, (3) passing Python objects instead of tensors. For (1), please define your @tf.function outside of the loop. For (2), @tf.function has experimental_relax_shapes=True option that relaxes argument shapes that can avoid unnecessary retracing. For (3), please refer to https://www.tensorflow.org/guide/function#controlling_retracing and https://www.tensorflow.org/api_docs/python/tf/function for  more details.\n"
     ]
    },
    {
     "name": "stderr",
     "output_type": "stream",
     "text": [
      "WARNING:tensorflow:6 out of the last 6 calls to <function Model.make_predict_function.<locals>.predict_function at 0x000001FE56B009D0> triggered tf.function retracing. Tracing is expensive and the excessive number of tracings could be due to (1) creating @tf.function repeatedly in a loop, (2) passing tensors with different shapes, (3) passing Python objects instead of tensors. For (1), please define your @tf.function outside of the loop. For (2), @tf.function has experimental_relax_shapes=True option that relaxes argument shapes that can avoid unnecessary retracing. For (3), please refer to https://www.tensorflow.org/guide/function#controlling_retracing and https://www.tensorflow.org/api_docs/python/tf/function for  more details.\n"
     ]
    },
    {
     "name": "stdout",
     "output_type": "stream",
     "text": [
      "-\n",
      "Input sentence:  Go.\n",
      "Decoded sentence:  Иди.\n",
      "\n",
      "-\n",
      "Input sentence:  Go.\n",
      "Decoded sentence:  Иди.\n",
      "\n",
      "-\n",
      "Input sentence:  Go.\n",
      "Decoded sentence:  Иди.\n",
      "\n",
      "-\n",
      "Input sentence:  Hi.\n",
      "Decoded sentence:  Здравствуйте.\n",
      "\n",
      "-\n",
      "Input sentence:  Hi.\n",
      "Decoded sentence:  Здравствуйте.\n",
      "\n",
      "-\n",
      "Input sentence:  Hi.\n",
      "Decoded sentence:  Здравствуйте.\n",
      "\n",
      "-\n",
      "Input sentence:  Hi.\n",
      "Decoded sentence:  Здравствуйте.\n",
      "\n",
      "-\n",
      "Input sentence:  Hi.\n",
      "Decoded sentence:  Здравствуйте.\n",
      "\n",
      "-\n",
      "Input sentence:  Run!\n",
      "Decoded sentence:  Беги!\n",
      "\n",
      "-\n",
      "Input sentence:  Run!\n",
      "Decoded sentence:  Беги!\n",
      "\n",
      "-\n",
      "Input sentence:  Run.\n",
      "Decoded sentence:  Беги!\n",
      "\n",
      "-\n",
      "Input sentence:  Run.\n",
      "Decoded sentence:  Беги!\n",
      "\n",
      "-\n",
      "Input sentence:  Who?\n",
      "Decoded sentence:  Кто выиграл?\n",
      "\n",
      "-\n",
      "Input sentence:  Wow!\n",
      "Decoded sentence:  Вот это да!\n",
      "\n",
      "-\n",
      "Input sentence:  Wow!\n",
      "Decoded sentence:  Вот это да!\n",
      "\n",
      "-\n",
      "Input sentence:  Wow!\n",
      "Decoded sentence:  Вот это да!\n",
      "\n",
      "-\n",
      "Input sentence:  Wow!\n",
      "Decoded sentence:  Вот это да!\n",
      "\n",
      "-\n",
      "Input sentence:  Wow!\n",
      "Decoded sentence:  Вот это да!\n",
      "\n",
      "-\n",
      "Input sentence:  Wow!\n",
      "Decoded sentence:  Вот это да!\n",
      "\n",
      "-\n",
      "Input sentence:  Fire!\n",
      "Decoded sentence:  Погоро!\n",
      "\n"
     ]
    }
   ],
   "source": [
    "for seq_index in range(20):\n",
    "    # Take one sequence (part of the training set)\n",
    "    # for trying out decoding\n",
    "    input_seq = encoder_input_data[seq_index : seq_index + 1]\n",
    "    decoded_sentence = decode_sequence(input_seq)\n",
    "    print(\"-\")\n",
    "    print(\"Input sentence: \", input_texts[seq_index])\n",
    "    print(\"Decoded sentence: \", decoded_sentence)"
   ]
  },
  {
   "cell_type": "code",
   "execution_count": null,
   "metadata": {},
   "outputs": [],
   "source": []
  }
 ],
 "metadata": {
  "kernelspec": {
   "display_name": "Python 3",
   "language": "python",
   "name": "python3"
  },
  "language_info": {
   "codemirror_mode": {
    "name": "ipython",
    "version": 3
   },
   "file_extension": ".py",
   "mimetype": "text/x-python",
   "name": "python",
   "nbconvert_exporter": "python",
   "pygments_lexer": "ipython3",
   "version": "3.8.3"
  }
 },
 "nbformat": 4,
 "nbformat_minor": 4
}
